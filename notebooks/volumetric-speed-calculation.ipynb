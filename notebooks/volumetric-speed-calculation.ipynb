{
 "cells": [
  {
   "cell_type": "markdown",
   "metadata": {},
   "source": [
    "# Volumetric maging speed for a given sample size\n",
    "- sample volume of 1 cm3\n",
    "- camera Photometric Iris 15, FOV = 21.49 x 12.61 mm\n",
    "- distance between z-planes 5 um (undersampling, but preserving cellular resolution)"
   ]
  },
  {
   "cell_type": "code",
   "execution_count": 1,
   "metadata": {},
   "outputs": [],
   "source": [
    "import numpy as np"
   ]
  },
  {
   "cell_type": "code",
   "execution_count": 52,
   "metadata": {},
   "outputs": [],
   "source": [
    "MAG = 2 # detection objective magnification\n",
    "frames_per_s = 1000/267.\n",
    "FOV_Y_mm, FOV_X_mm = 21.49, 12.61\n",
    "FOV_Y_px, FOV_X_px = 5056, 2960\n",
    "bytes_per_px = 2 # 16-bit camera\n",
    "FOV_X_sample, FOV_Y_sample = FOV_X_mm/MAG, FOV_Y_mm/MAG\n",
    "z_step = 0.005\n",
    "sample_dim_z_mm = 10\n",
    "sample_dim_x_mm = sample_dim_y_mm = 10\n",
    "tile_overlap = 0.1 # 10%"
   ]
  },
  {
   "cell_type": "code",
   "execution_count": 55,
   "metadata": {},
   "outputs": [
    {
     "name": "stdout",
     "output_type": "stream",
     "text": [
      "N_tiles_X, N_tiles_Y = 1.8, 1.0 (can be non-integer, approximation for larger volumes)\n"
     ]
    }
   ],
   "source": [
    "# N_tiles are allowed to be non-integer, because this is averaged approximation\n",
    "N_planes = sample_dim_z_mm/z_step\n",
    "N_tiles_X, N_tiles_Y = sample_dim_x_mm / (FOV_X_sample * (1 - tile_overlap)), sample_dim_y_mm / (FOV_Y_sample * (1 - tile_overlap))\n",
    "print(f\"N_tiles_X, N_tiles_Y = {N_tiles_X:.1f}, {N_tiles_Y:.1f} (can be non-integer, approximation for larger volumes)\")"
   ]
  },
  {
   "cell_type": "code",
   "execution_count": 51,
   "metadata": {},
   "outputs": [
    {
     "name": "stdout",
     "output_type": "stream",
     "text": [
      "Total imaging time per 1 cm3 sample volume: 972 seconds\n",
      "Dataset size (single channel): 109 GB\n"
     ]
    }
   ],
   "source": [
    "N_frames = int(N_planes * N_tiles_X * N_tiles_Y)\n",
    "total_time_s = int(N_frames / frames_per_s)\n",
    "total_GB = N_frames * FOV_Y_px * FOV_X_px * bytes_per_px / 1e9\n",
    "print(f\"Total imaging time per 1 cm3 sample volume: {total_time_s} seconds\")\n",
    "print(f\"Dataset size (single channel): {int(total_GB)} GB\")"
   ]
  },
  {
   "cell_type": "code",
   "execution_count": null,
   "metadata": {},
   "outputs": [],
   "source": []
  }
 ],
 "metadata": {
  "kernelspec": {
   "display_name": "Python 3",
   "language": "python",
   "name": "python3"
  },
  "language_info": {
   "codemirror_mode": {
    "name": "ipython",
    "version": 3
   },
   "file_extension": ".py",
   "mimetype": "text/x-python",
   "name": "python",
   "nbconvert_exporter": "python",
   "pygments_lexer": "ipython3",
   "version": "3.8.5"
  }
 },
 "nbformat": 4,
 "nbformat_minor": 4
}
