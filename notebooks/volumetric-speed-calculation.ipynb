{
 "cells": [
  {
   "cell_type": "markdown",
   "metadata": {},
   "source": [
    "# Volumetric maging speed for a given sample size\n",
    "- sample volume of 1 cm$^3$\n",
    "- camera Photometric Iris 15, FOV = 21.49 x 12.61 mm\n",
    "- distance between z-planes 5 or 2 µm "
   ]
  },
  {
   "cell_type": "code",
   "execution_count": 1,
   "metadata": {},
   "outputs": [],
   "source": [
    "import numpy as np"
   ]
  },
  {
   "cell_type": "code",
   "execution_count": 65,
   "metadata": {},
   "outputs": [],
   "source": [
    "MAG = 5 # detection objective magnification\n",
    "frames_per_s = 2.5 # this includes data writing overhead\n",
    "FOV_Y_mm, FOV_X_mm = 21.49, 12.61 # Iris 15\n",
    "FOV_Y_px, FOV_X_px = 5056, 2960 # Iris 15\n",
    "#FOV_Y_mm, FOV_X_mm = 13.31, 13.31 # Orca Flash 4.3\n",
    "#FOV_Y_px, FOV_X_px = 2048, 2048 # Orca Flash 4.3\n",
    "bytes_per_px = 2 # 16-bit camera\n",
    "FOV_X_sample, FOV_Y_sample = FOV_X_mm/MAG, FOV_Y_mm/MAG\n",
    "sample_dim_z_mm = 10\n",
    "sample_dim_x_mm = sample_dim_y_mm = 10\n",
    "tile_overlap = 0.1 # 10%"
   ]
  },
  {
   "cell_type": "code",
   "execution_count": 66,
   "metadata": {},
   "outputs": [
    {
     "name": "stdout",
     "output_type": "stream",
     "text": [
      "N_tiles_X, N_tiles_Y = 4.4, 2.6 (can be non-integer, approximation for larger volumes)\n"
     ]
    }
   ],
   "source": [
    "z_step = 5e-3 # mm\n",
    "# N_tiles are allowed to be non-integer, because this is averaged approximation\n",
    "N_planes = sample_dim_z_mm/z_step\n",
    "N_tiles_X, N_tiles_Y = sample_dim_x_mm / (FOV_X_sample * (1 - tile_overlap)), sample_dim_y_mm / (FOV_Y_sample * (1 - tile_overlap))\n",
    "print(f\"N_tiles_X, N_tiles_Y = {N_tiles_X:.1f}, {N_tiles_Y:.1f} (can be non-integer, approximation for larger volumes)\")"
   ]
  },
  {
   "cell_type": "code",
   "execution_count": 67,
   "metadata": {},
   "outputs": [
    {
     "name": "stdout",
     "output_type": "stream",
     "text": [
      "Imaging time per 1 cm3 sample volume (actual): 12000 seconds (200.0 minutes)\n",
      "Imaging time per 1 cm3 sample volume (averaged): 9111 seconds (151.8 minutes)\n",
      "\n",
      "Dataset size (single channel, actual): 897 GB\n",
      "Dataset size (single channel, volume-averaged): 681 GB\n"
     ]
    }
   ],
   "source": [
    "N_frames_ave = int(N_planes * N_tiles_X * N_tiles_Y) # average over large volumes, N(tiles) can be fractional\n",
    "N_frames_min = int(N_planes * np.ceil(N_tiles_X) * np.ceil(N_tiles_Y)) # minimum, N(tile) rounded to next integers\n",
    "total_time_s_ave = int(N_frames_ave / frames_per_s)\n",
    "total_time_s_min = int(N_frames_min / frames_per_s)\n",
    "total_GB_ave = N_frames_ave * FOV_Y_px * FOV_X_px * bytes_per_px / 1e9\n",
    "total_GB_min = N_frames_min * FOV_Y_px * FOV_X_px * bytes_per_px / 1e9\n",
    "print(f\"Imaging time per 1 cm3 sample volume (actual): {total_time_s_min} seconds ({total_time_s_min/60:.1f} minutes)\")\n",
    "print(f\"Imaging time per 1 cm3 sample volume (averaged): {total_time_s_ave} seconds ({total_time_s_ave/60:.1f} minutes)\\n\")\n",
    "\n",
    "print(f\"Dataset size (single channel, actual): {int(total_GB_min)} GB\")\n",
    "print(f\"Dataset size (single channel, volume-averaged): {int(total_GB_ave)} GB\")"
   ]
  },
  {
   "cell_type": "markdown",
   "metadata": {},
   "source": [
    "Minimum (= actual) time can be larger than (volume) average time because the minimum number of tiles for cannot be less than 1, but on average can be non-integer and < 1. At high magnifications and/or large volumes the difference between the two estimates becomes negligible."
   ]
  },
  {
   "cell_type": "code",
   "execution_count": null,
   "metadata": {},
   "outputs": [],
   "source": []
  }
 ],
 "metadata": {
  "kernelspec": {
   "display_name": "Python 3",
   "language": "python",
   "name": "python3"
  },
  "language_info": {
   "codemirror_mode": {
    "name": "ipython",
    "version": 3
   },
   "file_extension": ".py",
   "mimetype": "text/x-python",
   "name": "python",
   "nbconvert_exporter": "python",
   "pygments_lexer": "ipython3",
   "version": "3.8.5"
  }
 },
 "nbformat": 4,
 "nbformat_minor": 4
}
